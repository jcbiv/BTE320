{
  "cells": [
    {
      "cell_type": "markdown",
      "metadata": {
        "id": "mqKVIuY-mxNU"
      },
      "source": [
        "# Problem Set 2"
      ]
    },
    {
      "cell_type": "markdown",
      "metadata": {
        "id": "-RSYW1jVm08n"
      },
      "source": [
        "## Assignment 1: Quality Control (7 points)\n",
        "\n",
        "A quality control manager would like to find the average weight of a list of weights. Prior experience indicates that the first two measures are atypical, and the practice is to exclude these from the average calculation.\n",
        "\n",
        "Write a program that calculates the average of a list of numbers that given as inputs from the user, excluding the first two values.\n",
        "\n",
        "For your program, you must define and use the following functions:\n",
        "- `getValues(n)`: Prompt the user for `n` values, returns the list\n",
        "- `calcAverage(alist)`: Calculates the average from the list"
      ]
    },
    {
      "cell_type": "code",
      "execution_count": null,
      "metadata": {
        "id": "AqbgJkgNmvQw"
      },
      "outputs": [],
      "source": [
        "\n",
        "def getValues(n):\n",
        "    weights = []\n",
        "    if n < 3:\n",
        "        print('Not enough values')\n",
        "        return None\n",
        "    else:\n",
        "        for i in range(n):\n",
        "            weight = float(input('Enter a weight: '))\n",
        "            weights.append(weight)\n",
        "        return weights[2:]\n",
        "\n",
        "n_weights = int(input(\"Enter number of weights to be added to the list: \"))\n",
        "\n",
        "valueList = getValues(n_weights)\n",
        "\n",
        "def calcAverage(alist):\n",
        "    sumList = sum(valueList)\n",
        "    length = len(valueList)\n",
        "    average = sumList/length\n",
        "    print(average)\n",
        "\n",
        "\n",
        "calcAverage(valueList)"
      ]
    },
    {
      "cell_type": "markdown",
      "metadata": {
        "id": "QFO0Kzx8ncnv"
      },
      "source": [
        "## Assignment 2: Country Statistics Lookup-Multiple Measures (6 points)\n",
        "\n",
        "Assume a program begins with the statement:\n",
        "\n",
        "```python\n",
        "allData = { # dictionary of values for countries\n",
        "    'US': {'pop':325.7, 'gdp': 19.39, 'ccy': 'USD', 'fx':  1.0},\n",
        "    'CA': {'pop': 36.5, 'gdp':  1.65, 'ccy': 'CAD', 'fx':  1.35},\n",
        "    'MX': {'pop':129.2, 'gdp':  1.15, 'ccy': 'MXN', 'fx': 19.68}\n",
        "    }\n",
        "```\n",
        "\n",
        "Write subsequent statements that (in a loop) prompt the user for a country code (`US`, `CA`, or `MX`), then prompt for a measure name (`pop`, `gdp`, `ccy`, or `fx`), then look up in the above dictionary for the corresponding value, and display it.\n",
        "\n",
        "Example run:\n",
        "```\n",
        "Please enter a country code: CA\n",
        "Please enter a statistic: pop\n",
        "CA pop = 36.5\n",
        "```\n",
        "\n",
        "Your program should handle the cases where a user-entered country code or measure name is not found."
      ]
    },
    {
      "cell_type": "code",
      "execution_count": null,
      "metadata": {
        "id": "NZFjRINKowEW"
      },
      "outputs": [],
      "source": [
        "allData = { # dictionary of values for countries\n",
        "    'US': {'pop':325.7, 'gdp': 19.39, 'ccy': 'USD', 'fx':  1.0},\n",
        "    'CA': {'pop': 36.5, 'gdp':  1.65, 'ccy': 'CAD', 'fx':  1.35},\n",
        "    'MX': {'pop':129.2, 'gdp':  1.15, 'ccy': 'MXN', 'fx': 19.68}\n",
        "    }\n",
        "\n",
        "while True:\n",
        "\n",
        "    country = str(input(\"Please input a country code (US, CA, or MX): \"))\n",
        "   \n",
        "    if country in allData.keys():\n",
        "        country = country\n",
        "    elif country == \"Q\":\n",
        "        break\n",
        "    while country not in allData.keys() and country != \"Q\":\n",
        "        country = str(input(\"Please enter a valid code (US, CA, or MX): \"))\n",
        "\n",
        "    measure = str(input(\"Please input a measure name (pop, gdp, ccy, or fx): \"))\n",
        "    \n",
        "    if measure in allData[country].keys():\n",
        "        measure = measure\n",
        "    elif measure == \"Q\":\n",
        "        break\n",
        "    while measure not in allData[country].keys() and measure != \"Q\":\n",
        "         measure = str(input(\"Please enter a valid measure name (pop, gdp, ccy, or fx): \"))\n",
        "\n",
        "    print(allData[country][measure])"
      ]
    },
    {
      "cell_type": "markdown",
      "metadata": {
        "id": "GjaUFrnfpKFf"
      },
      "source": [
        "## Assignment 3: Parking Garage (6 points)\n",
        "\n",
        "Write a program to compute the fee for parking in a garage for a number of hours.\n",
        "\n",
        "The program should:\n",
        "- Prompt the user for how many hours parked\n",
        "- Calculate the fee based on the following rules:\n",
        "  - $2.50/hour\n",
        "\n",
        "  - minimum fee is $6.00\n",
        "\n",
        "  - maximum fee is $20.00\n",
        "- Print the result\n",
        "\n",
        "For your program, define and use the following two functions:\n",
        "```python\n",
        "# use input() to prompt for the # of hours parked, return this value\n",
        "def getParkingHours()\n",
        "\n",
        "# takes as input hours (a number), returns the parking fee\n",
        "def calcParkingFee()\n",
        "```"
      ]
    },
    {
      "cell_type": "code",
      "execution_count": null,
      "metadata": {
        "id": "5ha4O3V5pwNN"
      },
      "outputs": [],
      "source": [
        "def getParkingHours():\n",
        "    hours = int(input(\"enter the number of hours you parked: \"))\n",
        "    return hours\n",
        "\n",
        "def calcParkingFee(x):\n",
        "    fee = 2.5*x\n",
        "    if fee < 6:\n",
        "        fee = 6\n",
        "        return fee\n",
        "    elif fee >=20:\n",
        "        fee = 20\n",
        "        return fee\n",
        "    else:\n",
        "        return fee\n",
        "\n",
        "userHours = getParkingHours()\n",
        "\n",
        "newFee  = calcParkingFee(userHours)\n",
        "\n",
        "print(newFee)"
      ]
    },
    {
      "cell_type": "markdown",
      "metadata": {
        "id": "gipBObe5qm-2"
      },
      "source": [
        "## Assignment 4: Tuition (6 points)\n",
        "\n",
        "A college charges tuition according to the following:\n",
        "- 12 or more credits: $20,000/semester\n",
        "\n",
        "- 1-11 credits: $1,200 + $1,700 per credit\n",
        "\n",
        "Write a program that prompts the user for a number of credits and determines and displays the tuition for the semester. As part of your program, define and use the following function:\n",
        "```python\n",
        "def calcTuition(credits)\n",
        "```\n",
        "The function returns the tuition for a given number of credits"
      ]
    },
    {
      "cell_type": "code",
      "execution_count": null,
      "metadata": {
        "id": "BPcn9ywzrL8y"
      },
      "outputs": [],
      "source": [
        "credits = int(input(\"Please enter the number of credits you are taking: \"))\n",
        "\n",
        "def CalcTuition(credits):\n",
        "    if credits < 12:\n",
        "        tuition = 1200 + credits*1700\n",
        "        return tuition\n",
        "    else:\n",
        "        tuition = 20000\n",
        "        return tuition\n",
        "    \n",
        "tuition = CalcTuition(credits)\n",
        "print(tuition)"
      ]
    }
  ],
  "metadata": {
    "colab": {
      "provenance": []
    },
    "kernelspec": {
      "display_name": "Python 3",
      "name": "python3"
    },
    "language_info": {
      "name": "python"
    }
  },
  "nbformat": 4,
  "nbformat_minor": 0
}
